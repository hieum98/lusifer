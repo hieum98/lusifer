{
 "cells": [
  {
   "cell_type": "code",
   "execution_count": null,
   "metadata": {},
   "outputs": [],
   "source": [
    "from datetime import date\n",
    "import mteb\n",
    "\n",
    "from lusifer.eval.tools import get_eval_multilingual, get_eval_mteb\n",
    "\n",
    "\n",
    "model_name = 'intfloat__e5-large'\n",
    "model_revision = 'public'\n",
    "output_folder = 'experiments/e5-large'\n",
    "\n",
    "mteb_model_meta = mteb.ModelMeta(\n",
    "    name=model_name,\n",
    "    revision=model_revision,\n",
    "    release_date=date.today().strftime(\"%Y-%m-%d\"),\n",
    "    languages=None,\n",
    ")\n",
    "\n",
    "get_eval_mteb(\n",
    "    mteb_model_meta=mteb_model_meta,\n",
    "    output_folder=output_folder\n",
    ")\n",
    "\n",
    "get_eval_multilingual(\n",
    "    mteb_model_meta=mteb_model_meta,\n",
    "    output_folder=output_folder\n",
    ")\n",
    "\n",
    "\n"
   ]
  }
 ],
 "metadata": {
  "kernelspec": {
   "display_name": "lusifer",
   "language": "python",
   "name": "python3"
  },
  "language_info": {
   "codemirror_mode": {
    "name": "ipython",
    "version": 3
   },
   "file_extension": ".py",
   "mimetype": "text/x-python",
   "name": "python",
   "nbconvert_exporter": "python",
   "pygments_lexer": "ipython3",
   "version": "3.11.9"
  }
 },
 "nbformat": 4,
 "nbformat_minor": 2
}
